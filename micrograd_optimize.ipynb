{
  "nbformat": 4,
  "nbformat_minor": 0,
  "metadata": {
    "colab": {
      "provenance": []
    },
    "kernelspec": {
      "name": "python3",
      "display_name": "Python 3"
    },
    "language_info": {
      "name": "python"
    }
  },
  "cells": [
    {
      "cell_type": "code",
      "execution_count": 1,
      "metadata": {
        "id": "PIPhp6tXnq8T",
        "colab": {
          "base_uri": "https://localhost:8080/"
        },
        "outputId": "2676164c-af82-48e7-ac57-dfc4942cc4bc"
      },
      "outputs": [
        {
          "output_type": "stream",
          "name": "stdout",
          "text": [
            "Requirement already satisfied: micrograd in /usr/local/lib/python3.10/dist-packages (0.1.0)\n"
          ]
        }
      ],
      "source": [
        "!pip install micrograd"
      ]
    },
    {
      "cell_type": "code",
      "source": [
        "import math\n",
        "import numpy as np\n",
        "import matplotlib.pyplot as plt\n",
        "%matplotlib inline\n",
        "from graphviz import Digraph\n",
        "import random"
      ],
      "metadata": {
        "id": "pXm4XGfRD3AD"
      },
      "execution_count": 2,
      "outputs": []
    },
    {
      "cell_type": "code",
      "source": [
        "class Value:\n",
        "\n",
        "  def __init__(self,data, _children=(), _op='', label=''):\n",
        "    self.data=data\n",
        "    self.grad=0.0\n",
        "    self._backward = lambda: None\n",
        "    self._prev=set(_children)\n",
        "    self._op=_op\n",
        "    self.label=label\n",
        "\n",
        "  def __repr__(self):\n",
        "        return f\"Value(data={self.data}, grad={self.grad})\"\n",
        "\n",
        "  def __add__(self,other):\n",
        "    other = other if isinstance(other, Value) else Value(other)\n",
        "    out=Value(self.data + other.data,(self,other),'+')\n",
        "\n",
        "    def _backward():\n",
        "      self.grad += 1.0 * out.grad\n",
        "      other.grad += 1.0 * out.grad\n",
        "    out._backward = _backward\n",
        "    return out\n",
        "\n",
        "  def __radd__(self, other): # other + self\n",
        "        return self + other\n",
        "\n",
        "  def __neg__(self):\n",
        "    return self*(-1)\n",
        "\n",
        "  def __sub__(self, other):\n",
        "    return self + (-other)\n",
        "\n",
        "  def __mul__(self,other):\n",
        "    other = other if isinstance(other, Value) else Value(other)\n",
        "    out=Value(self.data*other.data,(self,other),'*')\n",
        "\n",
        "    def _backward():\n",
        "      self.grad += other.data*out.grad\n",
        "      other.grad += self.data*out.grad\n",
        "    out._backward = _backward\n",
        "    return out\n",
        "\n",
        "  def __rmul__(self, other):\n",
        "    return self*other\n",
        "\n",
        "  def __truediv__(self, other):\n",
        "    return self*(other**(-1))\n",
        "\n",
        "  def __rtruediv__(self, other): # other / self\n",
        "        return other * self**-1\n",
        "\n",
        "  def __pow__(self, other):\n",
        "    assert isinstance(other, (int, float)), \"only supports int and float for now\"\n",
        "    out = Value(self.data**other, (self, ), f'**{other}')\n",
        "\n",
        "    def _backward():\n",
        "      self.grad += other*(self.data **(other-1))*out.grad\n",
        "    out._backward = _backward\n",
        "    return out\n",
        "\n",
        "  def tanh(self):\n",
        "    x = self.data\n",
        "    t = (math.exp(2*x)-1)/(math.exp(2*x)+1)\n",
        "    out = Value(t, (self, ) , 'tanh')\n",
        "\n",
        "    def _backward():\n",
        "      self.grad += (1-t**2) * out.grad\n",
        "\n",
        "    out._backward=_backward\n",
        "    return out\n",
        "\n",
        "  def exp(self):\n",
        "    x =  self.data\n",
        "    out = Value(math.exp(x), (self, ), 'exp')\n",
        "\n",
        "    def _backward():\n",
        "      self.grad+= out.data*out.grad\n",
        "    out._backward = _backward\n",
        "    return out\n",
        "\n",
        "\n",
        "  def backward(self):\n",
        "    topo=[]\n",
        "    visited=set()\n",
        "    def build_topo(v):\n",
        "      if v not in visited:\n",
        "        visited.add(v)\n",
        "        for child in v._prev:\n",
        "          build_topo(child)\n",
        "        topo.append(v)\n",
        "    build_topo(self)\n",
        "\n",
        "    self.grad=1.0\n",
        "    for node in reversed(topo):\n",
        "      node._backward()"
      ],
      "metadata": {
        "id": "3KqyFM8Yz-1A"
      },
      "execution_count": 15,
      "outputs": []
    },
    {
      "cell_type": "code",
      "source": [
        "def trace(root):\n",
        "  #set of all nodes and edges\n",
        "  nodes,edges =set(),set()\n",
        "  def build(v):\n",
        "    if v not in nodes:\n",
        "      nodes.add(v)\n",
        "      for child in v._prev:\n",
        "        edges.add((child,v))\n",
        "        build(child)\n",
        "  build(root)\n",
        "  return nodes,edges\n",
        "\n",
        "\n",
        "def draw_dot(root):\n",
        "  dot=Digraph(format='svg', graph_attr={'rankdir':'LR'})\n",
        "\n",
        "  nodes,edges=trace(root)\n",
        "  for n in nodes:\n",
        "    uid=str(id(n))\n",
        "    dot.node(name=uid, label=\"{%s | data %.4f | grad %.4f}\" % (n.label, n.data, n.grad), shape='record')\n",
        "    if n._op:\n",
        "      dot.node(name=uid+n._op, label=n._op)\n",
        "      dot.edge(uid+n._op, uid)\n",
        "\n",
        "  for n1, n2 in edges:\n",
        "    dot.edge(str(id(n1)), str(id(n2))+n2._op)\n",
        "\n",
        "  return dot"
      ],
      "metadata": {
        "id": "uHsqJA398r2n"
      },
      "execution_count": 16,
      "outputs": []
    },
    {
      "cell_type": "code",
      "source": [
        "def lol():\n",
        "  h=0.001\n",
        "  a=Value(2.0, label='a')\n",
        "  b=Value(-3.0, label='b')\n",
        "  c=Value(10.0, label='c')\n",
        "  e=a*b; e.label='e'\n",
        "  d=e+c; d.label='d'\n",
        "  f=Value(-2.0, label='f')\n",
        "  L= d*f;L.label='L'\n",
        "  L1=L.data\n",
        "\n",
        "  a=Value(2.0, label='a')\n",
        "  b=Value(-3.0, label='b')\n",
        "  c=Value(10.0, label='c')\n",
        "  e=a*b; e.label='e'\n",
        "  d=e+c; d.label='d'\n",
        "  f=Value(-2.0, label='f')\n",
        "  L= d*f;L.label='L'\n",
        "  L2=L.data+h\n",
        "\n",
        "  print((L2-L1)/h)\n",
        "\n",
        "lol()"
      ],
      "metadata": {
        "id": "LrG-LzMS7V1m",
        "colab": {
          "base_uri": "https://localhost:8080/"
        },
        "outputId": "da4c2b3f-59eb-4e0f-daa4-132295ac439d"
      },
      "execution_count": 5,
      "outputs": [
        {
          "output_type": "stream",
          "name": "stdout",
          "text": [
            "1.000000000000334\n"
          ]
        }
      ]
    },
    {
      "cell_type": "code",
      "source": [
        "# inputs\n",
        "x1 = Value(2.0,label='x1')\n",
        "x2 = Value(0.0,label='x2')\n",
        "#weights\n",
        "w1 = Value(-3.0,label='w1')\n",
        "w2 = Value(1.0, label='w2')\n",
        "#bias\n",
        "b = Value(6.8813735870195432, label='b')\n",
        "\n",
        "x1w1=x1*w1;x1w1.label='x1w1'\n",
        "x2w2=x2*w2;x2w2.label='x2w2';\n",
        "x1w1x2w2=x1w1+x2w2; x1w1x2w2.label='x1w1 + x2w2'\n",
        "n=x1w1x2w2+b; n.label='n'\n",
        "o = n.tanh(); o.label='o'\n",
        "o.backward()"
      ],
      "metadata": {
        "id": "m0SM2eX2C5d-"
      },
      "execution_count": 6,
      "outputs": []
    },
    {
      "cell_type": "code",
      "source": [
        "draw_dot(o)"
      ],
      "metadata": {
        "colab": {
          "base_uri": "https://localhost:8080/",
          "height": 321
        },
        "id": "CWsHEAyULWrH",
        "outputId": "3da15f6b-9cb3-4335-f4f4-412b879e99dc"
      },
      "execution_count": 7,
      "outputs": [
        {
          "output_type": "execute_result",
          "data": {
            "image/svg+xml": "<?xml version=\"1.0\" encoding=\"UTF-8\" standalone=\"no\"?>\n<!DOCTYPE svg PUBLIC \"-//W3C//DTD SVG 1.1//EN\"\n \"http://www.w3.org/Graphics/SVG/1.1/DTD/svg11.dtd\">\n<!-- Generated by graphviz version 2.43.0 (0)\n -->\n<!-- Title: %3 Pages: 1 -->\n<svg width=\"1555pt\" height=\"210pt\"\n viewBox=\"0.00 0.00 1555.00 210.00\" xmlns=\"http://www.w3.org/2000/svg\" xmlns:xlink=\"http://www.w3.org/1999/xlink\">\n<g id=\"graph0\" class=\"graph\" transform=\"scale(1 1) rotate(0) translate(4 206)\">\n<title>%3</title>\n<polygon fill=\"white\" stroke=\"transparent\" points=\"-4,4 -4,-206 1551,-206 1551,4 -4,4\"/>\n<!-- 138017409213456 -->\n<g id=\"node1\" class=\"node\">\n<title>138017409213456</title>\n<polygon fill=\"none\" stroke=\"black\" points=\"4,-165.5 4,-201.5 196,-201.5 196,-165.5 4,-165.5\"/>\n<text text-anchor=\"middle\" x=\"19\" y=\"-179.8\" font-family=\"Times,serif\" font-size=\"14.00\">x2</text>\n<polyline fill=\"none\" stroke=\"black\" points=\"34,-165.5 34,-201.5 \"/>\n<text text-anchor=\"middle\" x=\"74\" y=\"-179.8\" font-family=\"Times,serif\" font-size=\"14.00\">data 0.0000</text>\n<polyline fill=\"none\" stroke=\"black\" points=\"114,-165.5 114,-201.5 \"/>\n<text text-anchor=\"middle\" x=\"155\" y=\"-179.8\" font-family=\"Times,serif\" font-size=\"14.00\">grad 0.5000</text>\n</g>\n<!-- 138017409207744* -->\n<g id=\"node13\" class=\"node\">\n<title>138017409207744*</title>\n<ellipse fill=\"none\" stroke=\"black\" cx=\"263\" cy=\"-128.5\" rx=\"27\" ry=\"18\"/>\n<text text-anchor=\"middle\" x=\"263\" y=\"-124.8\" font-family=\"Times,serif\" font-size=\"14.00\">*</text>\n</g>\n<!-- 138017409213456&#45;&gt;138017409207744* -->\n<g id=\"edge8\" class=\"edge\">\n<title>138017409213456&#45;&gt;138017409207744*</title>\n<path fill=\"none\" stroke=\"black\" d=\"M172.53,-165.44C181.84,-162.67 191.2,-159.67 200,-156.5 210.53,-152.71 221.75,-147.9 231.72,-143.33\"/>\n<polygon fill=\"black\" stroke=\"black\" points=\"233.25,-146.48 240.82,-139.07 230.28,-140.14 233.25,-146.48\"/>\n</g>\n<!-- 138017409215040 -->\n<g id=\"node2\" class=\"node\">\n<title>138017409215040</title>\n<polygon fill=\"none\" stroke=\"black\" points=\"326,-55.5 326,-91.5 540,-91.5 540,-55.5 326,-55.5\"/>\n<text text-anchor=\"middle\" x=\"349.5\" y=\"-69.8\" font-family=\"Times,serif\" font-size=\"14.00\">x1w1</text>\n<polyline fill=\"none\" stroke=\"black\" points=\"373,-55.5 373,-91.5 \"/>\n<text text-anchor=\"middle\" x=\"415.5\" y=\"-69.8\" font-family=\"Times,serif\" font-size=\"14.00\">data &#45;6.0000</text>\n<polyline fill=\"none\" stroke=\"black\" points=\"458,-55.5 458,-91.5 \"/>\n<text text-anchor=\"middle\" x=\"499\" y=\"-69.8\" font-family=\"Times,serif\" font-size=\"14.00\">grad 0.5000</text>\n</g>\n<!-- 138017409207792+ -->\n<g id=\"node15\" class=\"node\">\n<title>138017409207792+</title>\n<ellipse fill=\"none\" stroke=\"black\" cx=\"603\" cy=\"-100.5\" rx=\"27\" ry=\"18\"/>\n<text text-anchor=\"middle\" x=\"603\" y=\"-96.8\" font-family=\"Times,serif\" font-size=\"14.00\">+</text>\n</g>\n<!-- 138017409215040&#45;&gt;138017409207792+ -->\n<g id=\"edge10\" class=\"edge\">\n<title>138017409215040&#45;&gt;138017409207792+</title>\n<path fill=\"none\" stroke=\"black\" d=\"M540.4,-90.6C549.72,-92.1 558.65,-93.53 566.68,-94.82\"/>\n<polygon fill=\"black\" stroke=\"black\" points=\"566.24,-98.3 576.66,-96.43 567.35,-91.39 566.24,-98.3\"/>\n</g>\n<!-- 138017409215040* -->\n<g id=\"node3\" class=\"node\">\n<title>138017409215040*</title>\n<ellipse fill=\"none\" stroke=\"black\" cx=\"263\" cy=\"-73.5\" rx=\"27\" ry=\"18\"/>\n<text text-anchor=\"middle\" x=\"263\" y=\"-69.8\" font-family=\"Times,serif\" font-size=\"14.00\">*</text>\n</g>\n<!-- 138017409215040*&#45;&gt;138017409215040 -->\n<g id=\"edge1\" class=\"edge\">\n<title>138017409215040*&#45;&gt;138017409215040</title>\n<path fill=\"none\" stroke=\"black\" d=\"M290.25,-73.5C297.7,-73.5 306.34,-73.5 315.59,-73.5\"/>\n<polygon fill=\"black\" stroke=\"black\" points=\"315.84,-77 325.84,-73.5 315.84,-70 315.84,-77\"/>\n</g>\n<!-- 138017409209328 -->\n<g id=\"node4\" class=\"node\">\n<title>138017409209328</title>\n<polygon fill=\"none\" stroke=\"black\" points=\"1051,-54.5 1051,-90.5 1236,-90.5 1236,-54.5 1051,-54.5\"/>\n<text text-anchor=\"middle\" x=\"1062.5\" y=\"-68.8\" font-family=\"Times,serif\" font-size=\"14.00\">n</text>\n<polyline fill=\"none\" stroke=\"black\" points=\"1074,-54.5 1074,-90.5 \"/>\n<text text-anchor=\"middle\" x=\"1114\" y=\"-68.8\" font-family=\"Times,serif\" font-size=\"14.00\">data 0.8814</text>\n<polyline fill=\"none\" stroke=\"black\" points=\"1154,-54.5 1154,-90.5 \"/>\n<text text-anchor=\"middle\" x=\"1195\" y=\"-68.8\" font-family=\"Times,serif\" font-size=\"14.00\">grad 0.5000</text>\n</g>\n<!-- 138017409209088tanh -->\n<g id=\"node8\" class=\"node\">\n<title>138017409209088tanh</title>\n<ellipse fill=\"none\" stroke=\"black\" cx=\"1299\" cy=\"-72.5\" rx=\"27\" ry=\"18\"/>\n<text text-anchor=\"middle\" x=\"1299\" y=\"-68.8\" font-family=\"Times,serif\" font-size=\"14.00\">tanh</text>\n</g>\n<!-- 138017409209328&#45;&gt;138017409209088tanh -->\n<g id=\"edge11\" class=\"edge\">\n<title>138017409209328&#45;&gt;138017409209088tanh</title>\n<path fill=\"none\" stroke=\"black\" d=\"M1236.01,-72.5C1245.01,-72.5 1253.74,-72.5 1261.66,-72.5\"/>\n<polygon fill=\"black\" stroke=\"black\" points=\"1261.91,-76 1271.91,-72.5 1261.91,-69 1261.91,-76\"/>\n</g>\n<!-- 138017409209328+ -->\n<g id=\"node5\" class=\"node\">\n<title>138017409209328+</title>\n<ellipse fill=\"none\" stroke=\"black\" cx=\"988\" cy=\"-72.5\" rx=\"27\" ry=\"18\"/>\n<text text-anchor=\"middle\" x=\"988\" y=\"-68.8\" font-family=\"Times,serif\" font-size=\"14.00\">+</text>\n</g>\n<!-- 138017409209328+&#45;&gt;138017409209328 -->\n<g id=\"edge2\" class=\"edge\">\n<title>138017409209328+&#45;&gt;138017409209328</title>\n<path fill=\"none\" stroke=\"black\" d=\"M1015.04,-72.5C1022.58,-72.5 1031.3,-72.5 1040.57,-72.5\"/>\n<polygon fill=\"black\" stroke=\"black\" points=\"1040.81,-76 1050.81,-72.5 1040.81,-69 1040.81,-76\"/>\n</g>\n<!-- 138017409210000 -->\n<g id=\"node6\" class=\"node\">\n<title>138017409210000</title>\n<polygon fill=\"none\" stroke=\"black\" points=\"703,-27.5 703,-63.5 888,-63.5 888,-27.5 703,-27.5\"/>\n<text text-anchor=\"middle\" x=\"714.5\" y=\"-41.8\" font-family=\"Times,serif\" font-size=\"14.00\">b</text>\n<polyline fill=\"none\" stroke=\"black\" points=\"726,-27.5 726,-63.5 \"/>\n<text text-anchor=\"middle\" x=\"766\" y=\"-41.8\" font-family=\"Times,serif\" font-size=\"14.00\">data 6.8814</text>\n<polyline fill=\"none\" stroke=\"black\" points=\"806,-27.5 806,-63.5 \"/>\n<text text-anchor=\"middle\" x=\"847\" y=\"-41.8\" font-family=\"Times,serif\" font-size=\"14.00\">grad 0.5000</text>\n</g>\n<!-- 138017409210000&#45;&gt;138017409209328+ -->\n<g id=\"edge14\" class=\"edge\">\n<title>138017409210000&#45;&gt;138017409209328+</title>\n<path fill=\"none\" stroke=\"black\" d=\"M888.12,-58.49C910.59,-61.67 933.33,-64.89 951.33,-67.44\"/>\n<polygon fill=\"black\" stroke=\"black\" points=\"950.95,-70.93 961.34,-68.86 951.93,-63.99 950.95,-70.93\"/>\n</g>\n<!-- 138017409209088 -->\n<g id=\"node7\" class=\"node\">\n<title>138017409209088</title>\n<polygon fill=\"none\" stroke=\"black\" points=\"1362,-54.5 1362,-90.5 1547,-90.5 1547,-54.5 1362,-54.5\"/>\n<text text-anchor=\"middle\" x=\"1373.5\" y=\"-68.8\" font-family=\"Times,serif\" font-size=\"14.00\">o</text>\n<polyline fill=\"none\" stroke=\"black\" points=\"1385,-54.5 1385,-90.5 \"/>\n<text text-anchor=\"middle\" x=\"1425\" y=\"-68.8\" font-family=\"Times,serif\" font-size=\"14.00\">data 0.7071</text>\n<polyline fill=\"none\" stroke=\"black\" points=\"1465,-54.5 1465,-90.5 \"/>\n<text text-anchor=\"middle\" x=\"1506\" y=\"-68.8\" font-family=\"Times,serif\" font-size=\"14.00\">grad 1.0000</text>\n</g>\n<!-- 138017409209088tanh&#45;&gt;138017409209088 -->\n<g id=\"edge3\" class=\"edge\">\n<title>138017409209088tanh&#45;&gt;138017409209088</title>\n<path fill=\"none\" stroke=\"black\" d=\"M1326.04,-72.5C1333.58,-72.5 1342.3,-72.5 1351.57,-72.5\"/>\n<polygon fill=\"black\" stroke=\"black\" points=\"1351.81,-76 1361.81,-72.5 1351.81,-69 1351.81,-76\"/>\n</g>\n<!-- 138017409210672 -->\n<g id=\"node9\" class=\"node\">\n<title>138017409210672</title>\n<polygon fill=\"none\" stroke=\"black\" points=\"2,-55.5 2,-91.5 198,-91.5 198,-55.5 2,-55.5\"/>\n<text text-anchor=\"middle\" x=\"17\" y=\"-69.8\" font-family=\"Times,serif\" font-size=\"14.00\">x1</text>\n<polyline fill=\"none\" stroke=\"black\" points=\"32,-55.5 32,-91.5 \"/>\n<text text-anchor=\"middle\" x=\"72\" y=\"-69.8\" font-family=\"Times,serif\" font-size=\"14.00\">data 2.0000</text>\n<polyline fill=\"none\" stroke=\"black\" points=\"112,-55.5 112,-91.5 \"/>\n<text text-anchor=\"middle\" x=\"155\" y=\"-69.8\" font-family=\"Times,serif\" font-size=\"14.00\">grad &#45;1.5000</text>\n</g>\n<!-- 138017409210672&#45;&gt;138017409215040* -->\n<g id=\"edge6\" class=\"edge\">\n<title>138017409210672&#45;&gt;138017409215040*</title>\n<path fill=\"none\" stroke=\"black\" d=\"M198.37,-73.5C208.05,-73.5 217.4,-73.5 225.8,-73.5\"/>\n<polygon fill=\"black\" stroke=\"black\" points=\"225.91,-77 235.91,-73.5 225.91,-70 225.91,-77\"/>\n</g>\n<!-- 138017409210768 -->\n<g id=\"node10\" class=\"node\">\n<title>138017409210768</title>\n<polygon fill=\"none\" stroke=\"black\" points=\"2.5,-110.5 2.5,-146.5 197.5,-146.5 197.5,-110.5 2.5,-110.5\"/>\n<text text-anchor=\"middle\" x=\"19\" y=\"-124.8\" font-family=\"Times,serif\" font-size=\"14.00\">w2</text>\n<polyline fill=\"none\" stroke=\"black\" points=\"35.5,-110.5 35.5,-146.5 \"/>\n<text text-anchor=\"middle\" x=\"75.5\" y=\"-124.8\" font-family=\"Times,serif\" font-size=\"14.00\">data 1.0000</text>\n<polyline fill=\"none\" stroke=\"black\" points=\"115.5,-110.5 115.5,-146.5 \"/>\n<text text-anchor=\"middle\" x=\"156.5\" y=\"-124.8\" font-family=\"Times,serif\" font-size=\"14.00\">grad 0.0000</text>\n</g>\n<!-- 138017409210768&#45;&gt;138017409207744* -->\n<g id=\"edge9\" class=\"edge\">\n<title>138017409210768&#45;&gt;138017409207744*</title>\n<path fill=\"none\" stroke=\"black\" d=\"M197.91,-128.5C207.65,-128.5 217.05,-128.5 225.52,-128.5\"/>\n<polygon fill=\"black\" stroke=\"black\" points=\"225.7,-132 235.7,-128.5 225.7,-125 225.7,-132\"/>\n</g>\n<!-- 138017409211296 -->\n<g id=\"node11\" class=\"node\">\n<title>138017409211296</title>\n<polygon fill=\"none\" stroke=\"black\" points=\"0,-0.5 0,-36.5 200,-36.5 200,-0.5 0,-0.5\"/>\n<text text-anchor=\"middle\" x=\"16.5\" y=\"-14.8\" font-family=\"Times,serif\" font-size=\"14.00\">w1</text>\n<polyline fill=\"none\" stroke=\"black\" points=\"33,-0.5 33,-36.5 \"/>\n<text text-anchor=\"middle\" x=\"75.5\" y=\"-14.8\" font-family=\"Times,serif\" font-size=\"14.00\">data &#45;3.0000</text>\n<polyline fill=\"none\" stroke=\"black\" points=\"118,-0.5 118,-36.5 \"/>\n<text text-anchor=\"middle\" x=\"159\" y=\"-14.8\" font-family=\"Times,serif\" font-size=\"14.00\">grad 1.0000</text>\n</g>\n<!-- 138017409211296&#45;&gt;138017409215040* -->\n<g id=\"edge13\" class=\"edge\">\n<title>138017409211296&#45;&gt;138017409215040*</title>\n<path fill=\"none\" stroke=\"black\" d=\"M169.28,-36.5C179.65,-39.61 190.16,-42.98 200,-46.5 210.28,-50.17 221.28,-54.74 231.11,-59.07\"/>\n<polygon fill=\"black\" stroke=\"black\" points=\"229.93,-62.37 240.48,-63.27 232.79,-55.99 229.93,-62.37\"/>\n</g>\n<!-- 138017409207744 -->\n<g id=\"node12\" class=\"node\">\n<title>138017409207744</title>\n<polygon fill=\"none\" stroke=\"black\" points=\"328.5,-110.5 328.5,-146.5 537.5,-146.5 537.5,-110.5 328.5,-110.5\"/>\n<text text-anchor=\"middle\" x=\"352\" y=\"-124.8\" font-family=\"Times,serif\" font-size=\"14.00\">x2w2</text>\n<polyline fill=\"none\" stroke=\"black\" points=\"375.5,-110.5 375.5,-146.5 \"/>\n<text text-anchor=\"middle\" x=\"415.5\" y=\"-124.8\" font-family=\"Times,serif\" font-size=\"14.00\">data 0.0000</text>\n<polyline fill=\"none\" stroke=\"black\" points=\"455.5,-110.5 455.5,-146.5 \"/>\n<text text-anchor=\"middle\" x=\"496.5\" y=\"-124.8\" font-family=\"Times,serif\" font-size=\"14.00\">grad 0.5000</text>\n</g>\n<!-- 138017409207744&#45;&gt;138017409207792+ -->\n<g id=\"edge12\" class=\"edge\">\n<title>138017409207744&#45;&gt;138017409207792+</title>\n<path fill=\"none\" stroke=\"black\" d=\"M537.53,-111.25C547.8,-109.53 557.66,-107.89 566.45,-106.43\"/>\n<polygon fill=\"black\" stroke=\"black\" points=\"567.3,-109.83 576.59,-104.74 566.15,-102.93 567.3,-109.83\"/>\n</g>\n<!-- 138017409207744*&#45;&gt;138017409207744 -->\n<g id=\"edge4\" class=\"edge\">\n<title>138017409207744*&#45;&gt;138017409207744</title>\n<path fill=\"none\" stroke=\"black\" d=\"M290.25,-128.5C298.43,-128.5 308.03,-128.5 318.31,-128.5\"/>\n<polygon fill=\"black\" stroke=\"black\" points=\"318.35,-132 328.35,-128.5 318.35,-125 318.35,-132\"/>\n</g>\n<!-- 138017409207792 -->\n<g id=\"node14\" class=\"node\">\n<title>138017409207792</title>\n<polygon fill=\"none\" stroke=\"black\" points=\"666,-82.5 666,-118.5 925,-118.5 925,-82.5 666,-82.5\"/>\n<text text-anchor=\"middle\" x=\"712\" y=\"-96.8\" font-family=\"Times,serif\" font-size=\"14.00\">x1w1 + x2w2</text>\n<polyline fill=\"none\" stroke=\"black\" points=\"758,-82.5 758,-118.5 \"/>\n<text text-anchor=\"middle\" x=\"800.5\" y=\"-96.8\" font-family=\"Times,serif\" font-size=\"14.00\">data &#45;6.0000</text>\n<polyline fill=\"none\" stroke=\"black\" points=\"843,-82.5 843,-118.5 \"/>\n<text text-anchor=\"middle\" x=\"884\" y=\"-96.8\" font-family=\"Times,serif\" font-size=\"14.00\">grad 0.5000</text>\n</g>\n<!-- 138017409207792&#45;&gt;138017409209328+ -->\n<g id=\"edge7\" class=\"edge\">\n<title>138017409207792&#45;&gt;138017409209328+</title>\n<path fill=\"none\" stroke=\"black\" d=\"M919.03,-82.49C930.7,-80.77 941.77,-79.15 951.46,-77.72\"/>\n<polygon fill=\"black\" stroke=\"black\" points=\"952.01,-81.18 961.4,-76.26 951,-74.25 952.01,-81.18\"/>\n</g>\n<!-- 138017409207792+&#45;&gt;138017409207792 -->\n<g id=\"edge5\" class=\"edge\">\n<title>138017409207792+&#45;&gt;138017409207792</title>\n<path fill=\"none\" stroke=\"black\" d=\"M630.09,-100.5C637.58,-100.5 646.3,-100.5 655.75,-100.5\"/>\n<polygon fill=\"black\" stroke=\"black\" points=\"655.84,-104 665.84,-100.5 655.84,-97 655.84,-104\"/>\n</g>\n</g>\n</svg>\n",
            "text/plain": [
              "<graphviz.graphs.Digraph at 0x7d86aea60340>"
            ]
          },
          "metadata": {},
          "execution_count": 7
        }
      ]
    },
    {
      "cell_type": "code",
      "source": [
        "# inputs\n",
        "x1 = Value(2.0,label='x1')\n",
        "x2 = Value(0.0,label='x2')\n",
        "#weights\n",
        "w1 = Value(-3.0,label='w1')\n",
        "w2 = Value(1.0, label='w2')\n",
        "#bias\n",
        "b = Value(6.8813735870195432, label='b')\n",
        "\n",
        "x1w1 = x1*w1; x1w1.label = 'x1w1'\n",
        "x2w2 = x2*w2; x2w2.label = 'x2w2';\n",
        "x1w1x2w2 = x1w1 + x2w2; x1w1x2w2.label ='x1w1 + x2w2'\n",
        "n=x1w1x2w2+b; n.label='n'\n",
        "\n",
        "# ---\n",
        "e=(2*n).exp()\n",
        "o = (e-1)/(e+1)\n",
        "# ---\n",
        "o.label='o'\n",
        "o.backward()"
      ],
      "metadata": {
        "id": "BfeNJldd6ed-"
      },
      "execution_count": 8,
      "outputs": []
    },
    {
      "cell_type": "markdown",
      "source": [
        "#### Same thing but in pytorch"
      ],
      "metadata": {
        "id": "l8p4bX8PDc2a"
      }
    },
    {
      "cell_type": "code",
      "source": [
        "import torch"
      ],
      "metadata": {
        "id": "dmKGDLW1DcoG"
      },
      "execution_count": 9,
      "outputs": []
    },
    {
      "cell_type": "code",
      "source": [
        "x1 = torch.Tensor([2.0]).double()                  ;x1.requires_grad = True\n",
        "x2 = torch.Tensor([0.0]).double()                  ;x2.requires_grad = True\n",
        "w1 = torch.Tensor([-3.0]).double()                 ;w1.requires_grad = True\n",
        "w2 = torch.Tensor([1.0]).double()                  ;w2.requires_grad = True\n",
        "b =  torch.Tensor([6.8813735870195432]).double()   ;b.requires_grad = True\n",
        "n = x1*w1 + x2*w2 + b\n",
        "o = torch.tanh(n)\n",
        "\n",
        "print(o.data.item())\n",
        "o.backward()\n",
        "print('----')\n",
        "print('x2', x2.grad.item())\n",
        "print('w2', w2.grad.item())\n",
        "print('x1', x1.grad.item())\n",
        "print('w1', w1.grad.item())"
      ],
      "metadata": {
        "colab": {
          "base_uri": "https://localhost:8080/"
        },
        "id": "wgmdmV1v62n6",
        "outputId": "1f0749e9-6f51-4e8e-9f7d-ad000771bac7"
      },
      "execution_count": 10,
      "outputs": [
        {
          "output_type": "stream",
          "name": "stdout",
          "text": [
            "0.7071066904050358\n",
            "----\n",
            "x2 0.5000001283844369\n",
            "w2 0.0\n",
            "x1 -1.5000003851533106\n",
            "w1 1.0000002567688737\n"
          ]
        }
      ]
    },
    {
      "cell_type": "code",
      "source": [
        "o"
      ],
      "metadata": {
        "colab": {
          "base_uri": "https://localhost:8080/"
        },
        "id": "V4cq11UsI_IY",
        "outputId": "97a8d192-3335-46ef-f149-e13b8d0c3fd3"
      },
      "execution_count": 11,
      "outputs": [
        {
          "output_type": "execute_result",
          "data": {
            "text/plain": [
              "tensor([0.7071], dtype=torch.float64, grad_fn=<TanhBackward0>)"
            ]
          },
          "metadata": {},
          "execution_count": 11
        }
      ]
    },
    {
      "cell_type": "markdown",
      "source": [
        "#### Neurons"
      ],
      "metadata": {
        "id": "-seFyh3oLT4r"
      }
    },
    {
      "cell_type": "code",
      "source": [
        "class Neuron:\n",
        "  def __init__(self, nin):\n",
        "    self.w = [Value(random.uniform(-1,1)) for _ in range(nin)]\n",
        "    self.b = Value(random.uniform(-1,1))\n",
        "\n",
        "\n",
        "  def __call__(self, x):\n",
        "    act = sum((wi*xi for wi,xi in zip(self.w,x)), self.b)\n",
        "    out = act.tanh()\n",
        "    return out\n",
        "\n",
        "  def parameters(self):\n",
        "    return self.w + [self.b]\n",
        "\n",
        "\n",
        "class Layer:\n",
        "\n",
        "  def __init__(self, nin, nout):\n",
        "    self.neurons=[Neuron(nin) for _ in range(nout)]\n",
        "\n",
        "  def __call__(self, x):\n",
        "    outs = [n(x) for n in self.neurons]\n",
        "    return outs[0] if len(outs) == 1 else outs\n",
        "\n",
        "  def parameters(self):\n",
        "    return [p for neuron in self.neurons for p in neuron.parameters()]\n",
        "\n",
        "\n",
        "class MLP:\n",
        "\n",
        "  def __init__(self, nin, nouts):\n",
        "    sz = [nin] + nouts\n",
        "    self.layers = [Layer(sz[i], sz[i+1]) for i in range(len(nouts))]\n",
        "\n",
        "  def __call__(self, x):\n",
        "    for layer in self.layers:\n",
        "      x = layer(x)\n",
        "    return x\n",
        "\n",
        "  def parameters(self):\n",
        "    return [p for layer in self.layers for p in layer.parameters()]\n",
        "\n"
      ],
      "metadata": {
        "id": "JoUve4pFKlf1"
      },
      "execution_count": 100,
      "outputs": []
    },
    {
      "cell_type": "code",
      "source": [
        "x= [2.0,3.0,-1.0]\n",
        "n = MLP(3, [4,4,1])\n",
        "n(x)"
      ],
      "metadata": {
        "colab": {
          "base_uri": "https://localhost:8080/"
        },
        "id": "NP-NYI3dFQ4C",
        "outputId": "29ea4d90-aa87-4896-fa2a-4df4ce6c2133"
      },
      "execution_count": 162,
      "outputs": [
        {
          "output_type": "execute_result",
          "data": {
            "text/plain": [
              "Value(data=-0.6392417570327911, grad=0.0)"
            ]
          },
          "metadata": {},
          "execution_count": 162
        }
      ]
    },
    {
      "cell_type": "code",
      "source": [
        "xs = [\n",
        "    [2.0, 3.0, -1.0],\n",
        "    [3.0, -1.0, 0.5],\n",
        "    [0.5, 1.0, 1.0],\n",
        "    [1.0, 1.0, -1.0]\n",
        "]\n",
        "\n",
        "ys = [1.0, -1.0, -1.0, 1.0]"
      ],
      "metadata": {
        "id": "xMITiP-svCqr"
      },
      "execution_count": 163,
      "outputs": []
    },
    {
      "cell_type": "code",
      "source": [
        "for k in range(20):\n",
        "  #fwd pass\n",
        "  ypred = [n(x) for x in xs]\n",
        "  loss=sum([(yout-ygt)**2 for ygt, yout in zip(ys, ypred)])\n",
        "\n",
        "  #backwardpass\n",
        "  for p in n.parameters():\n",
        "    p.grad=0.0\n",
        "  loss.backward()\n",
        "\n",
        "  #update\n",
        "  for p in n.parameters():\n",
        "    p.data += -0.05 * p.grad\n",
        "\n",
        "  print(k, loss.data)\n"
      ],
      "metadata": {
        "colab": {
          "base_uri": "https://localhost:8080/"
        },
        "id": "puhS6wZxKEYv",
        "outputId": "e137103c-b2f3-469e-fb75-d4394ed39689"
      },
      "execution_count": 164,
      "outputs": [
        {
          "output_type": "stream",
          "name": "stdout",
          "text": [
            "0 5.862204390859146\n",
            "1 3.145536650559219\n",
            "2 0.792028226805795\n",
            "3 0.40126988054284896\n",
            "4 0.27436635643686896\n",
            "5 0.20828261324501487\n",
            "6 0.16728695581019304\n",
            "7 0.13931998726630504\n",
            "8 0.1190372834090474\n",
            "9 0.10367614246604492\n",
            "10 0.0916571917573985\n",
            "11 0.0820102934652228\n",
            "12 0.07410627638017571\n",
            "13 0.06751927375964939\n",
            "14 0.06195085662283237\n",
            "15 0.0571857923300929\n",
            "16 0.053065029531086085\n",
            "17 0.04946855675668443\n",
            "18 0.046304166199144306\n",
            "19 0.043499879206376685\n"
          ]
        }
      ]
    },
    {
      "cell_type": "code",
      "source": [
        "ypred"
      ],
      "metadata": {
        "colab": {
          "base_uri": "https://localhost:8080/"
        },
        "id": "LJ4zZhJyM0UR",
        "outputId": "159b9373-8736-46c0-e493-9fb36b46e146"
      },
      "execution_count": 165,
      "outputs": [
        {
          "output_type": "execute_result",
          "data": {
            "text/plain": [
              "[Value(data=0.9103954126058321, grad=-0.17920917478833576),\n",
              " Value(data=-0.9225716667033427, grad=0.15485666659331465),\n",
              " Value(data=-0.8752210929293104, grad=0.24955781414137923),\n",
              " Value(data=0.8820764032203751, grad=-0.23584719355924988)]"
            ]
          },
          "metadata": {},
          "execution_count": 165
        }
      ]
    },
    {
      "cell_type": "code",
      "source": [
        "draw_dot(loss)"
      ],
      "metadata": {
        "id": "N8JKh-aM1Gug"
      },
      "execution_count": null,
      "outputs": []
    }
  ]
}